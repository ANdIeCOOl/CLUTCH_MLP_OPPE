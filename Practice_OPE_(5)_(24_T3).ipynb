{
  "nbformat": 4,
  "nbformat_minor": 0,
  "metadata": {
    "colab": {
      "provenance": [],
      "include_colab_link": true
    },
    "kernelspec": {
      "name": "python3",
      "display_name": "Python 3"
    },
    "language_info": {
      "name": "python"
    }
  },
  "cells": [
    {
      "cell_type": "markdown",
      "metadata": {
        "id": "view-in-github",
        "colab_type": "text"
      },
      "source": [
        "<a href=\"https://colab.research.google.com/github/ANdIeCOOl/CLUTCH_MLP_OPPE/blob/main/Practice_OPE_(5)_(24_T3).ipynb\" target=\"_parent\"><img src=\"https://colab.research.google.com/assets/colab-badge.svg\" alt=\"Open In Colab\"/></a>"
      ]
    },
    {
      "cell_type": "markdown",
      "source": [
        "#Metadata\n",
        "The dataset contains 10,000 records and 14 variables, each described below:\n",
        "\n",
        "|Column|\tDescription|\n",
        "|---|---|\n",
        "|person_age|\tAge of the person|\n",
        "|person_gender\t|Gender of the person\t|\n",
        "|person_education\t|Highest education level\t|\n",
        "|person_income\t|Annual income\t|\n",
        "|person_emp_exp\t|Years of employment experience\t|\n",
        "|person_home_ownership\t|Home ownership status (e.g., rent, own, mortgage)\t|\n",
        "|loan_amnt\t|Loan amount requested\t|\n",
        "|loan_intent\t|Purpose of the loan\t|\n",
        "|loan_int_rate\t|Loan interest rate\t|\n",
        "|loan_percent_income\t|Loan amount as a percentage of annual income|\n",
        "|cb_person_cred_hist_length\t|Length of credit history in years\t|\n",
        "|credit_score\t|Credit score of the person\t|\n",
        "|previous_loan_defaults_on_file\t|Indicator of previous loan defaults\t|\n",
        "|loan_status (target variable)|\tLoan approval status: 1 = approved; 0 = rejected|"
      ],
      "metadata": {
        "id": "obS_1e5K0tpv"
      }
    },
    {
      "cell_type": "markdown",
      "source": [
        "# Preprocessing"
      ],
      "metadata": {
        "id": "FKwbHYGQrAuh"
      }
    },
    {
      "cell_type": "markdown",
      "metadata": {
        "id": "kdWkoUZnump3"
      },
      "source": [
        "### Q1. [marks : 0] Which dataset are you using for this exam?\n",
        "\n",
        "Options:\n",
        "\n",
        "A) MLP_OPPE2_24T3_preprocessing_V1\n",
        "\n",
        "B) MLP_OPPE2_24T3_preprocessing_V2\n",
        "\n",
        "C) MLP_OPPE2_24T3_preprocessing_V3\n",
        "\n",
        "Answer: V1: A, V2:B, V3: C"
      ]
    },
    {
      "cell_type": "markdown",
      "source": [
        "### Use the below link to load dataset\n",
        "\n",
        "**Dataset V1** : https://drive.google.com/file/d/1NLSHDxftZLYe4QD1qNhwOxcyUNNVoKS5/view?usp=sharing"
      ],
      "metadata": {
        "id": "LZxdn2S2Q8bL"
      }
    },
    {
      "cell_type": "markdown",
      "source": [
        "### Q2 [Marks:5] In this dataset, what is the most frequent category in loan_intent feature?\n",
        "\n",
        "(A) EDUCATION\n",
        "\n",
        "(B) MEDICAL\n",
        "\n",
        "(C) VENTURE\n",
        "\n",
        "(D) PERSONAL\n",
        "\n",
        "(E) DEBTCONSOLIDATION\n",
        "\n",
        "(F) HOMEIMPROVEMENT\n",
        "\n",
        "All Versions: A"
      ],
      "metadata": {
        "id": "MPlqnhgiyrdQ"
      }
    },
    {
      "cell_type": "code",
      "source": [],
      "metadata": {
        "id": "kClQXP1JmcDh"
      },
      "execution_count": null,
      "outputs": []
    },
    {
      "cell_type": "markdown",
      "source": [
        "###Q3[Marks:5] **What is the ratio of counts of males to females ($\\dfrac{\\verb|males|}{\\verb|females|}$)among individuals who meet the following criteria:**\n",
        "- loan_status = 1,\n",
        "- credit_score < 600?\n",
        "\n",
        "\n",
        "(Answer correct upto 2 decimals)\n",
        "\n",
        "V1: 1.29(Range : 1.26, 1.32)\n",
        "\n",
        "V2: 1.08(Range : 1.05, 1.11)\n",
        "\n",
        "V3: 1.17(Range : 1.14, 1.20)\n"
      ],
      "metadata": {
        "id": "HmeoenX3WJ64"
      }
    },
    {
      "cell_type": "code",
      "source": [],
      "metadata": {
        "id": "FZUVM0hAmdTo"
      },
      "execution_count": null,
      "outputs": []
    },
    {
      "cell_type": "markdown",
      "source": [
        "###Q4[Marks:5] Which of the following option(s) are true?\n",
        "(A) Average **loan_int_rate** for **loan_intent = DEBTCONSOLIDATION** falls within the range of 9 to 10.\n",
        "\n",
        "(B) Average **loan_int_rate** for **loan_intent = EDUCATION** falls within the range of 10 to 11\n",
        "\n",
        "(C) Average **loan_int_rate** for **loan_intent = MEDICAL** falls within the range of 10 to 12\n",
        "\n",
        "(D) Average **loan_int_rate** for **loan_intent = PERSONAL** falls within the range of 11.5 to 12.5\n",
        "\n",
        "(E) None of these\n",
        "\n",
        "All versions: B,C"
      ],
      "metadata": {
        "id": "bvbruPdRQ8Xp"
      }
    },
    {
      "cell_type": "code",
      "source": [],
      "metadata": {
        "id": "z6H2PKKAmech"
      },
      "execution_count": null,
      "outputs": []
    },
    {
      "cell_type": "markdown",
      "source": [
        "### Q5.[Marks: 5] Create feature matrix(X) and label vector(y) using following instructions:\n",
        "- `loan_status` is the target column(y).\n",
        "- All the columns except the target column are in feature matrix(X).\n",
        "\n",
        "Compare the correlation value for the following feature pairs of feature matrix(X) and select the option which has the highest positive value .\n",
        "\n",
        "(A) person_age Vs person_income\n",
        "\n",
        "(B) person_age Vs person_emp_exp\n",
        "\n",
        "(C) person_age Vs cb_person_cred_hist_length\n",
        "\n",
        "(D) person_emp_exp Vs cb_person_cred_hist_length\n",
        "\n",
        "(E) loan_amnt Vs loan_int_rate\n",
        "\n",
        "\n",
        "\n",
        "All Versions: B\n"
      ],
      "metadata": {
        "id": "KmyMQS1H3TAn"
      }
    },
    {
      "cell_type": "code",
      "source": [],
      "metadata": {
        "id": "9rU5obKDmfhQ"
      },
      "execution_count": null,
      "outputs": []
    },
    {
      "cell_type": "markdown",
      "source": [
        "### Q6 [Marks 5] Split the dataset into train dataset and test dataset in the following manner.\n",
        "\n",
        "- Use sklearn train_test_split function to split the data.\n",
        "- Use only 20% data as test_set and keep random_state = 42\n",
        "\n",
        "What is the sum of `loan_status`(target) column in test_set?\n",
        "\n",
        "V1: 434\n",
        "V2: 433\n",
        "V3: 457"
      ],
      "metadata": {
        "id": "hCWleU7cHsKZ"
      }
    },
    {
      "cell_type": "code",
      "source": [],
      "metadata": {
        "id": "CiNhxO3XmgfS"
      },
      "execution_count": null,
      "outputs": []
    },
    {
      "cell_type": "markdown",
      "source": [
        "### Following all the questions are related to the **Data Preprocessing** you have to apply and save the preprocessing steps and move further.\n",
        "\n",
        "## Common Instructions for Question 7 to 9\n",
        "## Rules for Imputing the missing(NaN) or Unknown values:\n",
        "- Calculating statistical values (such as mean, median, mode) for each column in the training dataset.\n",
        "- Applying these calculated statistical values to replace missing (NaN) and unknown values in both the training and test datasets.\n",
        "- Ensuring that the calculation of statistical values excludes any rows containing missing or unknown values.\n",
        "- After imputation store the dataframe in another variable imputed_df\n",
        "\n",
        "- Replace the missing values in the **person_age** feature with the **Mean** value in that.\n",
        "- Replace the missing values in the **loan_int_rate** feature with the **Mean** value in that.\n",
        "\n",
        "- Replace the missing values in the **person_income** feature with the **Median** value in that.\n",
        "\n",
        "- Replace the missing values in the **person_home_ownership** feature with the **Constant** value 'OTHER'. (case sensitive)\n",
        "\n",
        "- Replace the missing values in the **previous_loan_defaults_on_file** feature with the **Constant** value 'No'. (case sensitive)\n",
        "\n",
        "\n",
        "- Write the answers related to the above imputation in below questions respectively.\n"
      ],
      "metadata": {
        "id": "Dkh0ftII9xRx"
      }
    },
    {
      "cell_type": "code",
      "source": [],
      "metadata": {
        "id": "mdvZ3HLvmhY0"
      },
      "execution_count": null,
      "outputs": []
    },
    {
      "cell_type": "markdown",
      "source": [
        "### Q7 [Marks: 5] Write the MEAN value of the **person_age** column of the train dataset you found to replace all the Missing Values (NaN). [NAT] (upto 2 digits after decimal points)\n",
        "\n",
        "V1: 27.74 (Range: 27.71, 27.77)\n",
        "\n",
        "V2: 27.75 (Range: 27.72, 27.78)\n",
        "\n",
        "V3: 27.83 (Range: 27.80, 27.86)"
      ],
      "metadata": {
        "id": "sYjtjf4yMjVj"
      }
    },
    {
      "cell_type": "code",
      "source": [],
      "metadata": {
        "id": "nmMhDu65n5Bh"
      },
      "execution_count": null,
      "outputs": []
    },
    {
      "cell_type": "markdown",
      "source": [
        "### Q8 [Marks: 5] Write the MEDIAN value of the **person_income** column of the train dataset you found to replace all the Missing Values (NaN). [NAT] (correct upto 0 digits after decimal points)\n",
        "\n",
        "V1: 67065\n",
        "\n",
        "V2: 67071\n",
        "\n",
        "V3: 67025"
      ],
      "metadata": {
        "id": "C2znIT0JNzKA"
      }
    },
    {
      "cell_type": "code",
      "source": [],
      "metadata": {
        "id": "_sxo0ub-n6Ep"
      },
      "execution_count": null,
      "outputs": []
    },
    {
      "cell_type": "markdown",
      "source": [
        "### Q9 [Marks: 5] Write the MOST FREQUENT value of the **person_home_ownership** column of the train dataset after replacing all the Missing Values (NaN) with constant. [NAT] (upto 2 digits after decimal points)\n",
        "\n",
        "(A) MORTGAGE\n",
        "\n",
        "(B) OWN\n",
        "\n",
        "(C) OTHER\n",
        "\n",
        "(D) RENT\n",
        "\n",
        "All versions: D\n"
      ],
      "metadata": {
        "id": "-lf5IKO4O836"
      }
    },
    {
      "cell_type": "code",
      "source": [],
      "metadata": {
        "id": "5aRulcRdn7Ib"
      },
      "execution_count": null,
      "outputs": []
    },
    {
      "cell_type": "markdown",
      "source": [
        "## Apply preprocessing on features of train and test datasets.\n",
        "\n",
        "- After applying the above imputation steps there should not be any missing or unknown values present in the train and test dataset.\n",
        "\n",
        "- fitting (learning) should be done only on train dataset after above imputation is done.\n",
        "\n",
        "- Learn transformers' parameters using training set only and then apply them on train & test sets.\n",
        "\n",
        "## For Categorical Features\n",
        "\n",
        "Ordinally Encode **\"person_education\"** features as Order given in table below\n",
        "\n",
        "|person_education|Order|\n",
        "|-------|--------|\n",
        "|High School|0|\n",
        "|Associate|1|\n",
        "|Bachelor|2|\n",
        "|Master|3|\n",
        "|Doctorate|4|\n",
        "\n",
        "### Nominal Features\n",
        "- One-Hot Encode **\"person_gender\", \"person_home_ownership\", \"loan_intent\", \"previous_loan_defaults_on_file\"** features and keep drop_first = True.\n",
        "\n",
        "\n",
        "### Scaling Features\n",
        "* Scale **all the features** (transformed categorical and numerical) of the feature matrix using the **StandardScaler**"
      ],
      "metadata": {
        "id": "wDQpHF7FGybb"
      }
    },
    {
      "cell_type": "code",
      "source": [],
      "metadata": {
        "id": "zTecH5Twn9CI"
      },
      "execution_count": null,
      "outputs": []
    },
    {
      "cell_type": "markdown",
      "source": [
        "###Q10 [Marks:3][NAT] Calculate the sum of all the values present in the transformed train feature matrix ? (upto 2 digits afer the decimal)\n",
        "\n",
        "All versions: 0 (Range: -0.30, 0.30)"
      ],
      "metadata": {
        "id": "LfIK2zzQd_a_"
      }
    },
    {
      "cell_type": "code",
      "source": [],
      "metadata": {
        "id": "VnrjGMbYn-pB"
      },
      "execution_count": null,
      "outputs": []
    },
    {
      "cell_type": "markdown",
      "source": [
        "###Q11 [Marks:7][NAT] Calculate the sum of all the values present in the transformed test feature matrix ? (upto 2 digits afer the decimal)\n",
        "\n",
        "V1: -5.37(Range: -5.40, -5.34)\n",
        "\n",
        "V2: 275.18(Range: 275.15, 275.21)\n",
        "\n",
        "V3: 167.03(Range: 167.00, 167.06)\n"
      ],
      "metadata": {
        "id": "qgOCSBmGgVCc"
      }
    },
    {
      "cell_type": "code",
      "source": [],
      "metadata": {
        "id": "xX9WlOE0n_uC"
      },
      "execution_count": null,
      "outputs": []
    },
    {
      "cell_type": "markdown",
      "metadata": {
        "id": "px_UVqpA6Huy"
      },
      "source": [
        "#ModelBuilding [Marks: 50]\n",
        "\n",
        "## Instruction\n",
        "- **Set or change** the parameters specified in the question, while keeping all other parameters at their default values."
      ]
    },
    {
      "cell_type": "markdown",
      "metadata": {
        "id": "S1oC5CDq6Pf8"
      },
      "source": [
        "### Q1. [marks : 0] Which dataset are you using for this Model Building section?\n",
        "\n",
        "Options:\n",
        "\n",
        "(A) MLP_OPPE2_24T3_modelBuilding_V1\n",
        "\n",
        "(B) MLP_OPPE2_24T3_modelBuilding_V2\n",
        "\n",
        "(C) MLP_OPPE2_24T3_modelBuilding_V3\n",
        "\n",
        "\n",
        "Answer: V1: A, V2:B, V3: C"
      ]
    },
    {
      "cell_type": "markdown",
      "source": [
        "### Use the below link to load dataset\n",
        "\n",
        "**Dataset V1** : https://drive.google.com/file/d/1TtX1AYQzgPh_kyVIw6Ktp36eL6NF39cz/view?usp=sharing"
      ],
      "metadata": {
        "id": "SG3YHdMr30hn"
      }
    },
    {
      "cell_type": "markdown",
      "source": [
        "### Split the dataset into train dataset and test dataset in the following manner.\n",
        "- **loan_status** is the target column(y).\n",
        "- All the columns except the target column are in feature matrix(X).\n",
        "- Use sklearn train_test_split function to split the data.\n",
        "- Use only 20% data as test_set and keep random_state = 42"
      ],
      "metadata": {
        "id": "5YLz02wWolSH"
      }
    },
    {
      "cell_type": "markdown",
      "source": [
        "### Q2 [5 marks][NAT] Take **`LogisticRegression`** estimator with following parameters for training:\n",
        "  - Use `sag` as solver\n",
        "  - Set random state to be equal to 42\n",
        "  - Tolerance for stopping criteria to be 1e-3\n",
        "  - Maximum number of iterations taken for the solvers to converge to be 200\n",
        "\n",
        "### **Enter the number of iteration required for the given model to converge using train set(X_train, y_train)**\n",
        "\n",
        "V1: 51 (Range: 48, 54)\n",
        "\n",
        "V2: 164 (Range: 161, 167)\n",
        "\n",
        "V3: 66 (Range: 63,69)\n"
      ],
      "metadata": {
        "id": "ztO0oW7GyND4"
      }
    },
    {
      "cell_type": "code",
      "source": [],
      "metadata": {
        "id": "gpQ496MAoDc5"
      },
      "execution_count": null,
      "outputs": []
    },
    {
      "cell_type": "markdown",
      "source": [
        "### Q3  [6 marks] [NAT] Use **`SGDClassifier`** on the training dataset (**`X_train`** and **`y_train`**) to train the model. Use the following parameters:\n",
        "\n",
        "1. `log_loss`is the loss function to be used\n",
        "2. apply ridge regularization,\n",
        "3. maximum number of passes over the training data is 30\n",
        "4. Initial learning rate of 0.01\n",
        "5. regularization rate value is 0.001,\n",
        "6. Take random_state=42.\n",
        "7. Set warm_start as True\n",
        "\n",
        "Note : Please ignore the convergence warning.\n",
        "\n",
        "### **Using above model, calculate and write the correct value of f1_score for label class =1 of the test set.**\n",
        "\n",
        "V1: 0.74 (Range: 0.71, 0.77)\n",
        "\n",
        "V2: 0.69 (Range: 0.66, 0.72)\n",
        "\n",
        "V3: 0.73 (Range: 0.70, 0.76)"
      ],
      "metadata": {
        "id": "9mhGQXZ4mApD"
      }
    },
    {
      "cell_type": "code",
      "source": [],
      "metadata": {
        "id": "ZuDKAt0YoEdZ"
      },
      "execution_count": null,
      "outputs": []
    },
    {
      "cell_type": "markdown",
      "source": [
        "### Q4. [6 marks] [MCQ] Tune the parameters using Gridsearchcv for below settings  \n",
        "- `estimator = KNeighborsClassifier`\n",
        "- `scoring =accuracy`\n",
        "- `cv= 5`\n",
        "* Consider following parameters for KNeighborsClassifier:\n",
        " - `n_neighbors = [11,17,23,29]`\n",
        " - `metric = \"minkowski\"`\n",
        " - Set p value for `minkowski = 2`\n",
        "\n",
        "- Keep other parameter values as default values.\n",
        "\n",
        "### **What is the best value of K you obtained using the above instructions?**\n",
        "\n",
        "Options\n",
        "\n",
        "(A) 11\n",
        "\n",
        "(B) 17\n",
        "\n",
        "(C) 23\n",
        "\n",
        "(D) 29\n",
        "\n",
        "Ans:\n",
        "\n",
        "V1: B\n",
        "\n",
        "V2: C\n",
        "\n",
        "V3: B"
      ],
      "metadata": {
        "id": "QaTPHd3sm4Gc"
      }
    },
    {
      "cell_type": "code",
      "source": [],
      "metadata": {
        "id": "paS8-i6foHPY"
      },
      "execution_count": null,
      "outputs": []
    },
    {
      "cell_type": "markdown",
      "source": [
        "###Q.5 [3 Marks] [MCQ] Fit an SVM classifier with following parameters:\n",
        "\n",
        "- `kernel='rbf'`\n",
        "- `decision_function_shape='ovr'`\n",
        "- `random_state=42`  \n",
        "- `C=1`\n",
        "\n",
        "###**Train the model on training data, and choose the option with correct classification confusion matrix on test data.**\n",
        "\n",
        "(A)$\\begin{bmatrix} %V2\n",
        " 1507  & 74\\\\\n",
        " 135 & 284\n",
        " \\end{bmatrix}$\n",
        "\\\n",
        "\\\n",
        "(B) $\\begin{bmatrix} %V1\n",
        " 1492  & 58\\\\\n",
        " 137 & 313\n",
        " \\end{bmatrix}$\n",
        "\\\n",
        "\\\n",
        "(C) $\\begin{bmatrix} %\n",
        "1523 & 69 \\\\\n",
        "142 & 266\n",
        " \\end{bmatrix}$\n",
        "\\\n",
        "\\\n",
        "(D)$\\begin{bmatrix} %V3\n",
        " 1486 &  60\\\\\n",
        " 135 & 319\n",
        " \\end{bmatrix}$\n",
        "\\\n",
        "\\\n",
        "(E) None of the above\n",
        "\n",
        "**Answers**\n",
        "\n",
        "V1: B\n",
        "\n",
        "V2: A\n",
        "\n",
        "V3: D\n"
      ],
      "metadata": {
        "id": "CdNahv7-4PFU"
      }
    },
    {
      "cell_type": "code",
      "source": [],
      "metadata": {
        "id": "XHgrpnF3oIkA"
      },
      "execution_count": null,
      "outputs": []
    },
    {
      "cell_type": "markdown",
      "source": [
        "**Common Instruction for Question 6 to 8**\n",
        "\n",
        "Train a Decision Tree Classifier with the following properties:\n",
        "\n",
        "- `criterion = 'entropy'`\n",
        "- `splitter = 'random'`\n",
        "- `min_samples_split = 3`\n",
        "- `min_impurity_decrease = 0.0001`\n",
        "- `random_state = 42`\n",
        "\n",
        "###**Q.6 [MCQ][3 Marks] What is the depth of the trained tree?**\n",
        "\n",
        "V1: 27\n",
        "\n",
        "V2 : 28\n",
        "\n",
        "V3: 27"
      ],
      "metadata": {
        "id": "d9HO9KhB7xne"
      }
    },
    {
      "cell_type": "code",
      "source": [],
      "metadata": {
        "id": "U0A0fhVCoJo_"
      },
      "execution_count": null,
      "outputs": []
    },
    {
      "cell_type": "markdown",
      "source": [
        "###**Q.7 [NAT][3 Marks] How many nodes are there in the tree?**\n",
        "\n",
        "V1: 1709 (Range: 1706, 1712)\n",
        "\n",
        "V2: 1673 (Range: 1670, 1676)\n",
        "\n",
        "V3: 1615 (Range : 1612,1618)"
      ],
      "metadata": {
        "id": "rPE2TnMF8V5F"
      }
    },
    {
      "cell_type": "code",
      "source": [],
      "metadata": {
        "id": "FvzfdFlaoKtg"
      },
      "execution_count": null,
      "outputs": []
    },
    {
      "cell_type": "markdown",
      "source": [
        "###**Q.8 [NAT][5 Marks] What is the value of entropy at the root node?** (correct upto 3 digit after decimal)\n",
        "\n",
        "V1: 0.770 (Range: 0.767,0.773)\n",
        "\n",
        "V2: 0.776 (Range: 0.773, 0.779)\n",
        "\n",
        "V3: 0.771 (Range: 0.768,0.774)"
      ],
      "metadata": {
        "id": "S2ALUhBl-7Uw"
      }
    },
    {
      "cell_type": "code",
      "source": [],
      "metadata": {
        "id": "bMujgkW3oLuB"
      },
      "execution_count": null,
      "outputs": []
    },
    {
      "cell_type": "markdown",
      "source": [
        "### **(Common Instructions for Q9,Q10)**\n",
        "##Train the AdaBoost model using the specified hyperparameter values below and optimize it with GridSearchCV\n",
        "- Use n_estimators as [13,29,37]\n",
        "- random_state = 42\n",
        "- Use learning_rate as [0.001,0.01,1,2]\n",
        "- use 5 fold cross validation\n",
        "\n",
        "\n"
      ],
      "metadata": {
        "id": "QXDI1k0P0Zlu"
      }
    },
    {
      "cell_type": "code",
      "source": [],
      "metadata": {
        "id": "WS-wrzLzoNQx"
      },
      "execution_count": null,
      "outputs": []
    },
    {
      "cell_type": "markdown",
      "source": [
        "###**Q9[Marks: 5][MCQ] Choose the value of `n_estimators` of the best model after training with GridSearchCV.**\n",
        "\n",
        "Options:\n",
        "\n",
        "(A) 13\n",
        "\n",
        "(B) 29\n",
        "\n",
        "(C) 37\n",
        "\n",
        "(D) None of these\n",
        "\n",
        "**Answer**\n",
        "\n",
        "All versions: C"
      ],
      "metadata": {
        "id": "NWS4UWsXwVEn"
      }
    },
    {
      "cell_type": "code",
      "source": [],
      "metadata": {
        "id": "PmqXo8AmoORx"
      },
      "execution_count": null,
      "outputs": []
    },
    {
      "cell_type": "markdown",
      "source": [
        "###**Q10[Marks: 5] [NAT] Train the 'model' using above instructions and use the best estimator to calculate the total number of misclassified samples in test data for which label was 1 (i.e. y_test=1) and submit the value.**\n",
        "\n",
        "Answer:\n",
        "\n",
        "V1: 131  (Range: 81,87)\n",
        "\n",
        "V2: 124  (Range: 121,127)\n",
        "\n",
        "V3: 149 (Range: 146,152)"
      ],
      "metadata": {
        "id": "jtTEFTxaE5E-"
      }
    },
    {
      "cell_type": "code",
      "source": [],
      "metadata": {
        "id": "zLXnopj2oPXg"
      },
      "execution_count": null,
      "outputs": []
    },
    {
      "cell_type": "markdown",
      "source": [
        "### Q11. [Marks: 5 ] [NAT] Train  with RandomizedSearchCV.\n",
        "\n",
        "- Keep Below Settings for **`RandomForestClassifier(random_state=42)`** estimator\n",
        "  - n_estimators = range(2,100)\n",
        "  - max_depth = range(1,11)\n",
        "  - min_impurity_decrease = uniform(loc=0,scale=5)\n",
        "\n",
        "\n",
        "- Keep below settings for RandomizedSearchCV\n",
        "  - estimator = RandomForestClassifier(random_state=42)\n",
        "  - random_state = 42\n",
        "  - n_iter=5\n",
        "  - cv=3\n",
        "  - n_jobs= -1\n",
        "  - verbose=2\n",
        "\n",
        "hint: from scipy.stats import uniform\n",
        "\n",
        "###**Submit the best param value for n_estimators using this RandomizedSearchCV on train data.**\n",
        "\n",
        "**Answer**\n",
        "\n",
        "V1: 16\n",
        "\n",
        "V2: 16\n",
        "\n",
        "V3: 16"
      ],
      "metadata": {
        "id": "Wh_dsqRo8wlT"
      }
    },
    {
      "cell_type": "code",
      "source": [],
      "metadata": {
        "id": "cUiLucD-oRfo"
      },
      "execution_count": null,
      "outputs": []
    },
    {
      "cell_type": "markdown",
      "source": [
        "###**Q12[Marks 4] [NAT] Write the accuray score of the test dataset using the best model** (upto 3 digit after the decimal)\n",
        "\n",
        "**Answers**\n",
        "\n",
        "V1: 0.775 (Range: 0.772,0.778)\n",
        "\n",
        "V2: 0.790 (Range: 0.787, 0.793)\n",
        "\n",
        "V3: 0.773 (Range: 0.770,0.776)"
      ],
      "metadata": {
        "id": "2tCiahFILXZT"
      }
    },
    {
      "cell_type": "code",
      "source": [],
      "metadata": {
        "id": "1h2R2ArNoSjR"
      },
      "execution_count": null,
      "outputs": []
    }
  ]
}